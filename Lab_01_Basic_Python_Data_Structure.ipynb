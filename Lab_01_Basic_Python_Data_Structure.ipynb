{
  "cells": [
    {
      "cell_type": "markdown",
      "metadata": {
        "id": "view-in-github",
        "colab_type": "text"
      },
      "source": [
        "<a href=\"https://colab.research.google.com/github/Nahian-Alvy/AI/blob/main/Lab_01_Basic_Python_Data_Structure.ipynb\" target=\"_parent\"><img src=\"https://colab.research.google.com/assets/colab-badge.svg\" alt=\"Open In Colab\"/></a>"
      ]
    },
    {
      "cell_type": "markdown",
      "metadata": {
        "id": "tUakohw5RzmN"
      },
      "source": [
        "# About this notebook\n",
        "<p style=\"text-align: justify\"> Here, you will learn the basic coding and data structures including numbers, strings, list, dictionaries and more. Some codes already done for demonstration. Some other codes, you will do as excercises.</p>\n",
        "\n",
        "## Submission\n",
        "<p style=\"text-align: justify\">After completing the practice codes and exercises, download the notebook (.pynb file) and submit the notebook  to MS Teams inbox in the class period</p>\n",
        "<p> 1.<b> You must submit your own code</b>. If similarity found negative marking will be given.</p>\n",
        "<p> 2. Modify the file name writing your ID at the beigining of the file name.</p>\n",
        "<p> 3. Other file format will not be accepted.</p>"
      ]
    },
    {
      "cell_type": "markdown",
      "source": [
        "# **INSTRUCTION**"
      ],
      "metadata": {
        "id": "7jKOIUPVzjYM"
      }
    },
    {
      "cell_type": "markdown",
      "metadata": {
        "id": "iQlhsnAxRzmQ"
      },
      "source": [
        "# Number"
      ]
    },
    {
      "cell_type": "code",
      "execution_count": null,
      "metadata": {
        "id": "EgjVFy62RzmR",
        "outputId": "285b7687-8311-48d4-94a4-d28345fd1421",
        "colab": {
          "base_uri": "https://localhost:8080/"
        }
      },
      "outputs": [
        {
          "output_type": "execute_result",
          "data": {
            "text/plain": [
              "12"
            ]
          },
          "metadata": {},
          "execution_count": 1
        }
      ],
      "source": [
        "# basic numeric operations\n",
        "34 - 22"
      ]
    },
    {
      "cell_type": "code",
      "execution_count": null,
      "metadata": {
        "id": "F0FimSxMRzmS",
        "outputId": "bce791d4-b92b-4156-ab47-61f51c44cefe",
        "colab": {
          "base_uri": "https://localhost:8080/"
        }
      },
      "outputs": [
        {
          "output_type": "execute_result",
          "data": {
            "text/plain": [
              "3.2857142857142856"
            ]
          },
          "metadata": {},
          "execution_count": 4
        }
      ],
      "source": [
        "# classic division returns a float\n",
        "23/7"
      ]
    },
    {
      "cell_type": "code",
      "execution_count": null,
      "metadata": {
        "id": "CjDuJ9zqRzmS",
        "outputId": "0f141372-0ff4-48ce-a810-79788b8465f9",
        "colab": {
          "base_uri": "https://localhost:8080/"
        }
      },
      "outputs": [
        {
          "output_type": "execute_result",
          "data": {
            "text/plain": [
              "3"
            ]
          },
          "metadata": {},
          "execution_count": 2
        }
      ],
      "source": [
        "# floor division discards the fractional part\n",
        "23 // 7"
      ]
    },
    {
      "cell_type": "code",
      "execution_count": null,
      "metadata": {
        "id": "q8eSw206RzmT",
        "outputId": "ed0dc960-b10b-4f3d-b801-90962ff1aa8d",
        "colab": {
          "base_uri": "https://localhost:8080/"
        }
      },
      "outputs": [
        {
          "output_type": "stream",
          "name": "stdout",
          "text": [
            "59.04545454545455\n"
          ]
        }
      ],
      "source": [
        "# assigin value to variable for later use\n",
        "a = 1299 / 22\n",
        "print(a)"
      ]
    },
    {
      "cell_type": "code",
      "execution_count": null,
      "metadata": {
        "id": "NiPvZZDiRzmT",
        "outputId": "cfc0b19b-99b4-48b9-9062-4659abbb79f3",
        "colab": {
          "base_uri": "https://localhost:8080/"
        }
      },
      "outputs": [
        {
          "output_type": "stream",
          "name": "stdout",
          "text": [
            "531.4090909090909\n"
          ]
        }
      ],
      "source": [
        "# use the variable a for further operations\n",
        "b = a*9\n",
        "print(b)"
      ]
    },
    {
      "cell_type": "code",
      "execution_count": null,
      "metadata": {
        "id": "DxWMtt3-RzmU"
      },
      "outputs": [],
      "source": [
        "a=2 ** 10"
      ]
    },
    {
      "cell_type": "markdown",
      "metadata": {
        "id": "dh1UZFy3RzmU"
      },
      "source": [
        "<b>Exercise 1:</b> Assign values to some variables and perform different operations. Also print the results."
      ]
    },
    {
      "cell_type": "code",
      "execution_count": null,
      "metadata": {
        "id": "M7JxL3K4RzmV"
      },
      "outputs": [],
      "source": [
        "# code here"
      ]
    },
    {
      "cell_type": "markdown",
      "metadata": {
        "id": "fdbNBNHLRzmV"
      },
      "source": [
        "# Import Module\n",
        "<p style=\"text-align: justify\"> Python code in one module gains access to the code in another module by the process of importing it. The import statement is the most common way of invoking the import machinery.</p>\n",
        "\n",
        "<p style=\"text-align: justify\">Python’s standard library is very extensive, offering a wide range of facilities. The library contains built-in modules (written in C) that provide access to system functionality such as file I/O that would otherwise be inaccessible to Python programmers, as well as modules written in Python that provide standardized solutions for many problems that occur in everyday programming. Some of these modules are explicitly designed to encourage and enhance the portability of Python programs by abstracting away platform-specifics into platform-neutral APIs.</p>\n",
        "\n",
        "<b> Example:</b> Python has a built-in module that you can use for mathematical tasks. The math module has a set of methods and constants. The detail documentation can be found [here](https://docs.python.org/3/library/math.html)."
      ]
    },
    {
      "cell_type": "code",
      "execution_count": null,
      "metadata": {
        "id": "W_qIawhDRzmV",
        "outputId": "a1fe3f22-34bb-4e93-e759-6f782593df87",
        "colab": {
          "base_uri": "https://localhost:8080/"
        }
      },
      "outputs": [
        {
          "output_type": "stream",
          "name": "stdout",
          "text": [
            "6.283185307179586\n",
            "3.141592653589793\n"
          ]
        }
      ],
      "source": [
        "# importing the math module\n",
        "import math\n",
        "# accessing the constant π from math\n",
        "print(math.tau)\n",
        "print(math.pi)"
      ]
    },
    {
      "cell_type": "code",
      "execution_count": null,
      "metadata": {
        "id": "Q8HYTDiKRzmW",
        "outputId": "c45bda4f-1a85-4cc0-9a40-d9d29a62f569",
        "colab": {
          "base_uri": "https://localhost:8080/"
        }
      },
      "outputs": [
        {
          "output_type": "execute_result",
          "data": {
            "text/plain": [
              "8.12403840463596"
            ]
          },
          "metadata": {},
          "execution_count": 5
        }
      ],
      "source": [
        "# using the method sqrt from math\n",
        "math.sqrt(66)"
      ]
    },
    {
      "cell_type": "markdown",
      "metadata": {
        "id": "SKFSp-jyRzmW"
      },
      "source": [
        "<b>Remember:</b> A cell always outputs the value of last variable. If you want to show other values use print. See the below cell for an example."
      ]
    },
    {
      "cell_type": "code",
      "execution_count": null,
      "metadata": {
        "id": "LplYC6VURzmW",
        "outputId": "5893b67c-299d-4936-9b00-ea26fa02031a",
        "colab": {
          "base_uri": "https://localhost:8080/"
        }
      },
      "outputs": [
        {
          "output_type": "stream",
          "name": "stdout",
          "text": [
            "3\n",
            "40\n",
            "0.1111111111111111\n"
          ]
        }
      ],
      "source": [
        "print(1+2)\n",
        "print(a*4)\n",
        "print(a/b)"
      ]
    },
    {
      "cell_type": "markdown",
      "metadata": {
        "id": "h5jaMCJgRzmX"
      },
      "source": [
        "<b>Exercise 2:</b> Import a module of your choice and show some operations.<br>\n",
        "See all python module list [here](https://docs.python.org/3/py-modindex.html)."
      ]
    },
    {
      "cell_type": "code",
      "execution_count": null,
      "metadata": {
        "id": "qxLjqbuIRzmX"
      },
      "outputs": [],
      "source": [
        "# code here"
      ]
    },
    {
      "cell_type": "markdown",
      "metadata": {
        "id": "mzYaXui8RzmX"
      },
      "source": [
        "# Object types\n",
        "The basic object types are Numbers, Strings, Lists, Dictionaries, Tuples, Files and Other types (Sets, types, None, Booleans etc.)"
      ]
    },
    {
      "cell_type": "code",
      "source": [
        "a=10.5"
      ],
      "metadata": {
        "id": "m9Ph-hDmteoA"
      },
      "execution_count": null,
      "outputs": []
    },
    {
      "cell_type": "code",
      "execution_count": null,
      "metadata": {
        "id": "2RVFS2BPRzmX",
        "outputId": "5af131f8-1c27-42dd-9e75-abc5983cc437",
        "colab": {
          "base_uri": "https://localhost:8080/"
        }
      },
      "outputs": [
        {
          "output_type": "stream",
          "name": "stdout",
          "text": [
            "<class 'float'>\n",
            "<class 'int'>\n"
          ]
        }
      ],
      "source": [
        "# Checking the type of an object\n",
        "print(type(a))\n",
        "print(type(b))"
      ]
    },
    {
      "cell_type": "code",
      "execution_count": null,
      "metadata": {
        "id": "AjtCCy6zRzmY",
        "outputId": "3e944ce6-27dc-4214-e2e4-5f9ac10f925e"
      },
      "outputs": [
        {
          "name": "stdout",
          "output_type": "stream",
          "text": [
            "<class 'int'>\n"
          ]
        }
      ],
      "source": [
        "c = 123\n",
        "print(type(c))"
      ]
    },
    {
      "cell_type": "code",
      "execution_count": null,
      "metadata": {
        "id": "VeL6GwnsRzmY",
        "outputId": "6d825d13-ba83-4528-81a5-946a0d7a120b",
        "colab": {
          "base_uri": "https://localhost:8080/"
        }
      },
      "outputs": [
        {
          "output_type": "stream",
          "name": "stdout",
          "text": [
            "<class 'str'>\n"
          ]
        }
      ],
      "source": [
        "d = '123'\n",
        "print(type(d))"
      ]
    },
    {
      "cell_type": "code",
      "execution_count": null,
      "metadata": {
        "id": "9ok8T1AlRzmY",
        "outputId": "4f7f94df-a45b-4f2c-d79b-141a48c19e3a"
      },
      "outputs": [
        {
          "name": "stdout",
          "output_type": "stream",
          "text": [
            "<class 'float'>\n"
          ]
        }
      ],
      "source": [
        "c = 45.5\n",
        "print(type(c))"
      ]
    },
    {
      "cell_type": "code",
      "execution_count": null,
      "metadata": {
        "id": "oqxDaWmCRzmY",
        "outputId": "5d54883d-5cbd-48ed-b3fa-eb124dd78566",
        "colab": {
          "base_uri": "https://localhost:8080/"
        }
      },
      "outputs": [
        {
          "output_type": "stream",
          "name": "stdout",
          "text": [
            "<class 'int'>\n"
          ]
        }
      ],
      "source": [
        "a = 7\n",
        "d = 99+a\n",
        "print(type(d))"
      ]
    },
    {
      "cell_type": "markdown",
      "metadata": {
        "id": "_3kFNbooRzmZ"
      },
      "source": [
        "# String"
      ]
    },
    {
      "cell_type": "code",
      "execution_count": null,
      "metadata": {
        "id": "4RDuLVuHRzmZ"
      },
      "outputs": [],
      "source": [
        "# assign value to a variable. The value can be qouted using '' or \"\"\n",
        "s = 'Bangladesh'"
      ]
    },
    {
      "cell_type": "code",
      "execution_count": null,
      "metadata": {
        "id": "YgdInV-bRzmZ",
        "outputId": "8e5050ff-1a0f-4527-d8fd-360533d38afc",
        "colab": {
          "base_uri": "https://localhost:8080/",
          "height": 36
        }
      },
      "outputs": [
        {
          "output_type": "execute_result",
          "data": {
            "text/plain": [
              "'g'"
            ],
            "application/vnd.google.colaboratory.intrinsic+json": {
              "type": "string"
            }
          },
          "metadata": {},
          "execution_count": 38
        }
      ],
      "source": [
        "# index\n",
        "s[3]"
      ]
    },
    {
      "cell_type": "code",
      "execution_count": null,
      "metadata": {
        "id": "SApsog7_RzmZ",
        "outputId": "c2288e00-4185-4898-c6ee-b09dd4f8b2f3",
        "colab": {
          "base_uri": "https://localhost:8080/",
          "height": 36
        }
      },
      "outputs": [
        {
          "output_type": "execute_result",
          "data": {
            "text/plain": [
              "'h'"
            ],
            "application/vnd.google.colaboratory.intrinsic+json": {
              "type": "string"
            }
          },
          "metadata": {},
          "execution_count": 16
        }
      ],
      "source": [
        "# negative index\n",
        "s = 'asdf'\n",
        "s[-1]"
      ]
    },
    {
      "cell_type": "markdown",
      "metadata": {
        "id": "0eT9wh_LRzma"
      },
      "source": [
        "When to use ' ' or \" \" ?"
      ]
    },
    {
      "cell_type": "markdown",
      "metadata": {
        "id": "WoJmaAijRzma"
      },
      "source": [
        "string operations with * and +"
      ]
    },
    {
      "cell_type": "code",
      "execution_count": null,
      "metadata": {
        "id": "BfxzLD9HRzma",
        "outputId": "d0c47127-fea6-43b5-ac8c-ee16d4039203",
        "colab": {
          "base_uri": "https://localhost:8080/",
          "height": 35
        }
      },
      "outputs": [
        {
          "output_type": "execute_result",
          "data": {
            "text/plain": [
              "'asif asif asif asif asif asif asif asif '"
            ],
            "application/vnd.google.colaboratory.intrinsic+json": {
              "type": "string"
            }
          },
          "metadata": {},
          "execution_count": 7
        }
      ],
      "source": [
        "'asif ' * 8"
      ]
    },
    {
      "cell_type": "code",
      "execution_count": null,
      "metadata": {
        "id": "BNSbM0HNRzma",
        "outputId": "9308ee8d-b181-4306-cc23-c110af5531bc",
        "colab": {
          "base_uri": "https://localhost:8080/",
          "height": 35
        }
      },
      "outputs": [
        {
          "output_type": "execute_result",
          "data": {
            "text/plain": [
              "'HelloHelloHello'"
            ],
            "application/vnd.google.colaboratory.intrinsic+json": {
              "type": "string"
            }
          },
          "metadata": {},
          "execution_count": 9
        }
      ],
      "source": [
        "name='Hello'\n",
        "name * 3"
      ]
    },
    {
      "cell_type": "code",
      "execution_count": null,
      "metadata": {
        "id": "v6WtfbxURzma",
        "outputId": "3434fca3-4f3f-4f3e-ccc4-c33e7a015dcc",
        "colab": {
          "base_uri": "https://localhost:8080/",
          "height": 36
        }
      },
      "outputs": [
        {
          "output_type": "execute_result",
          "data": {
            "text/plain": [
              "'asif rahman'"
            ],
            "application/vnd.google.colaboratory.intrinsic+json": {
              "type": "string"
            }
          },
          "metadata": {},
          "execution_count": 21
        }
      ],
      "source": [
        "'asif ' + 'rahman'"
      ]
    },
    {
      "cell_type": "code",
      "execution_count": null,
      "metadata": {
        "id": "itSLVn7SRzmb",
        "outputId": "b155f469-bed6-4d4e-9122-15c7b3c2b653",
        "colab": {
          "base_uri": "https://localhost:8080/",
          "height": 35
        }
      },
      "outputs": [
        {
          "output_type": "execute_result",
          "data": {
            "text/plain": [
              "'Hello hasan'"
            ],
            "application/vnd.google.colaboratory.intrinsic+json": {
              "type": "string"
            }
          },
          "metadata": {},
          "execution_count": 10
        }
      ],
      "source": [
        "name + ' hasan'"
      ]
    },
    {
      "cell_type": "code",
      "execution_count": null,
      "metadata": {
        "id": "AaNhu8QMRzmb",
        "outputId": "39630c25-707a-4d11-88f1-32c67e77fd91",
        "colab": {
          "base_uri": "https://localhost:8080/"
        }
      },
      "outputs": [
        {
          "output_type": "stream",
          "name": "stdout",
          "text": [
            "af U\n",
            "af Uddin\n",
            "Ashr\n",
            "din\n",
            "srfU\n",
            "niddU farhsA\n"
          ]
        }
      ],
      "source": [
        "# slicing\n",
        "name = 'Ashraf Uddin'\n",
        "print(name[4:8])\n",
        "print(name[4:])\n",
        "print(name[:4])\n",
        "print(name[-3:])\n",
        "print(name[1:8:2])\n",
        "print(name[-1: :-1])"
      ]
    },
    {
      "cell_type": "markdown",
      "metadata": {
        "id": "TGAKdDQtRzmb"
      },
      "source": [
        "Some examples of string methods"
      ]
    },
    {
      "cell_type": "code",
      "execution_count": null,
      "metadata": {
        "id": "63sdbV7gRzmb",
        "outputId": "5922f98d-2956-4ed4-dd5d-4ec7b571ed1c",
        "colab": {
          "base_uri": "https://localhost:8080/"
        }
      },
      "outputs": [
        {
          "output_type": "execute_result",
          "data": {
            "text/plain": [
              "0"
            ]
          },
          "metadata": {},
          "execution_count": 2
        }
      ],
      "source": [
        "name = 'Afsar Mahmud sayed'\n",
        "sub = 'sa '\n",
        "name.count(sub)"
      ]
    },
    {
      "cell_type": "code",
      "execution_count": null,
      "metadata": {
        "id": "WFTSySe3Rzmc",
        "outputId": "5c94c064-6c24-4a7a-e03a-9ad6b493fec6",
        "colab": {
          "base_uri": "https://localhost:8080/"
        }
      },
      "outputs": [
        {
          "output_type": "stream",
          "name": "stdout",
          "text": [
            "sayed\n"
          ]
        }
      ],
      "source": [
        "print(name.split())"
      ]
    },
    {
      "cell_type": "code",
      "source": [
        "print(name.split()[1])"
      ],
      "metadata": {
        "id": "LUBYum_bQDEq"
      },
      "execution_count": null,
      "outputs": []
    },
    {
      "cell_type": "code",
      "execution_count": null,
      "metadata": {
        "id": "sc6pVggQRzmc",
        "outputId": "421ca0a7-9ae5-4cef-e46d-c185c7f7aec7",
        "colab": {
          "base_uri": "https://localhost:8080/"
        }
      },
      "outputs": [
        {
          "output_type": "execute_result",
          "data": {
            "text/plain": [
              "False"
            ]
          },
          "metadata": {},
          "execution_count": 20
        }
      ],
      "source": [
        "name.islower()"
      ]
    },
    {
      "cell_type": "code",
      "execution_count": null,
      "metadata": {
        "id": "SLicn7tNRzmc",
        "outputId": "98efb8cb-09f7-4092-e849-234d113ff9fe",
        "colab": {
          "base_uri": "https://localhost:8080/"
        }
      },
      "outputs": [
        {
          "output_type": "execute_result",
          "data": {
            "text/plain": [
              "['I am right', 'He is fine', 'This it okay']"
            ]
          },
          "metadata": {},
          "execution_count": 29
        }
      ],
      "source": [
        "mystring = 'I am right\\nHe is fine\\nThis it okay'\n",
        "mystring.splitlines()"
      ]
    },
    {
      "cell_type": "code",
      "execution_count": null,
      "metadata": {
        "id": "lZa1oYLBRzmc",
        "outputId": "c4234a84-f212-432b-bd1b-b8a9dcc3d0a8",
        "colab": {
          "base_uri": "https://localhost:8080/"
        }
      },
      "outputs": [
        {
          "output_type": "execute_result",
          "data": {
            "text/plain": [
              "['I', 'am', 'right\\nHe', 'is', 'fine\\nThis', 'it', 'okay']"
            ]
          },
          "metadata": {},
          "execution_count": 30
        }
      ],
      "source": [
        "mystring = 'I am right\\nHe is fine\\nThis it okay'\n",
        "mystring.split(' ')"
      ]
    },
    {
      "cell_type": "code",
      "execution_count": null,
      "metadata": {
        "id": "ykc0YfK6Rzmc",
        "outputId": "3f790880-4a72-44da-a020-ef7d0cda0824",
        "colab": {
          "base_uri": "https://localhost:8080/",
          "height": 36
        }
      },
      "outputs": [
        {
          "output_type": "execute_result",
          "data": {
            "text/plain": [
              "'Himel??Liton??Hasan??Fahim'"
            ],
            "application/vnd.google.colaboratory.intrinsic+json": {
              "type": "string"
            }
          },
          "metadata": {},
          "execution_count": 31
        }
      ],
      "source": [
        "separator = '??'\n",
        "mystrings = ['Himel', 'Liton', 'Hasan', 'Fahim']\n",
        "separator.join(mystrings)"
      ]
    },
    {
      "cell_type": "code",
      "execution_count": null,
      "metadata": {
        "id": "6HTmr471Rzmc"
      },
      "outputs": [],
      "source": [
        "#help(mystring.count)"
      ]
    },
    {
      "cell_type": "code",
      "execution_count": null,
      "metadata": {
        "id": "wbIi_KpeRzmc",
        "outputId": "fbf28df4-a666-434b-e11f-d3a783dd69e3",
        "colab": {
          "base_uri": "https://localhost:8080/"
        }
      },
      "outputs": [
        {
          "output_type": "execute_result",
          "data": {
            "text/plain": [
              "18"
            ]
          },
          "metadata": {},
          "execution_count": 33
        }
      ],
      "source": [
        "len(name)"
      ]
    },
    {
      "cell_type": "code",
      "source": [
        "# check which functions you can use with variable 'name'\n",
        "dir(name)"
      ],
      "metadata": {
        "id": "L5ZJ-zcJ872r"
      },
      "execution_count": null,
      "outputs": []
    },
    {
      "cell_type": "code",
      "source": [
        "help(name.split)"
      ],
      "metadata": {
        "id": "LB96x9cM9Z9_"
      },
      "execution_count": null,
      "outputs": []
    },
    {
      "cell_type": "markdown",
      "metadata": {
        "id": "tmPN3EFcRzmd"
      },
      "source": [
        "<b>Exercise 3:</b> Demonstrate some string operations. Also, show uses of some string methods."
      ]
    },
    {
      "cell_type": "code",
      "execution_count": null,
      "metadata": {
        "id": "aHc4MuaTRzmd"
      },
      "outputs": [],
      "source": [
        "# Code here"
      ]
    },
    {
      "cell_type": "markdown",
      "metadata": {
        "id": "6gr5VKcARzmd"
      },
      "source": [
        "# List\n",
        "<p style=\"text-align: justify\">Python knows a number of compound data types, used to group together other values. The most versatile is the list, which can be written as a list of comma-separated values (items) between square brackets. Lists might contain items of different types, but usually the items all have the same type.</p>"
      ]
    },
    {
      "cell_type": "code",
      "execution_count": null,
      "metadata": {
        "id": "1Upn_AwwRzmd",
        "outputId": "a23ed946-0fe7-462f-ebbc-9c04e85a7af2"
      },
      "outputs": [
        {
          "data": {
            "text/plain": [
              "[1, 4, 9, 16, 25]"
            ]
          },
          "execution_count": 78,
          "metadata": {},
          "output_type": "execute_result"
        }
      ],
      "source": [
        "squares = [1, 4, 9, 16, 25]\n",
        "squares"
      ]
    },
    {
      "cell_type": "code",
      "execution_count": null,
      "metadata": {
        "id": "MSN71x4NRzmd",
        "colab": {
          "base_uri": "https://localhost:8080/"
        },
        "outputId": "6696f1ab-80d3-46b7-a46d-c94c9f645024"
      },
      "outputs": [
        {
          "output_type": "stream",
          "name": "stdout",
          "text": [
            "[10, 21, 'Manager', ['Manager', 89000], 4.5, 'Dhaka']\n"
          ]
        }
      ],
      "source": [
        "data = [21, 'Manager', ['Manager', 89000] ,4.50, 'Dhaka']\n",
        "data.insert(0,10)\n",
        "print(data)"
      ]
    },
    {
      "cell_type": "markdown",
      "metadata": {
        "id": "EAZkybb9Rzmd"
      },
      "source": [
        "Like strings (and all other built-in sequence types), lists can be indexed and sliced:"
      ]
    },
    {
      "cell_type": "code",
      "execution_count": null,
      "metadata": {
        "id": "mroJxa8xRzmd",
        "outputId": "94eba7c0-3cf4-4e6a-8f35-7edbe4d4e807",
        "colab": {
          "base_uri": "https://localhost:8080/",
          "height": 36
        }
      },
      "outputs": [
        {
          "output_type": "execute_result",
          "data": {
            "text/plain": [
              "'Manager'"
            ],
            "application/vnd.google.colaboratory.intrinsic+json": {
              "type": "string"
            }
          },
          "metadata": {},
          "execution_count": 7
        }
      ],
      "source": [
        "data[-3][0]"
      ]
    },
    {
      "cell_type": "code",
      "execution_count": null,
      "metadata": {
        "id": "9hZ2VcSURzmd",
        "outputId": "faafc917-204e-4e73-f8d9-dce4ca4ef111",
        "colab": {
          "base_uri": "https://localhost:8080/",
          "height": 36
        }
      },
      "outputs": [
        {
          "output_type": "execute_result",
          "data": {
            "text/plain": [
              "'Dhaka'"
            ],
            "application/vnd.google.colaboratory.intrinsic+json": {
              "type": "string"
            }
          },
          "metadata": {},
          "execution_count": 8
        }
      ],
      "source": [
        "data[-1]"
      ]
    },
    {
      "cell_type": "code",
      "execution_count": null,
      "metadata": {
        "id": "7OTvEEpmRzme",
        "outputId": "c999cce3-6d46-4393-e0bd-f25dcf92eb57",
        "colab": {
          "base_uri": "https://localhost:8080/"
        }
      },
      "outputs": [
        {
          "output_type": "execute_result",
          "data": {
            "text/plain": [
              "[21, 'Manager', ['Manager', 89000]]"
            ]
          },
          "metadata": {},
          "execution_count": 9
        }
      ],
      "source": [
        "data[0:3]"
      ]
    },
    {
      "cell_type": "code",
      "execution_count": null,
      "metadata": {
        "id": "CNJjqWtzRzme",
        "outputId": "7e27089f-4f60-42ec-b622-4da4622d3d0f"
      },
      "outputs": [
        {
          "data": {
            "text/plain": [
              "'Manager'"
            ]
          },
          "execution_count": 83,
          "metadata": {},
          "output_type": "execute_result"
        }
      ],
      "source": [
        "data[1]"
      ]
    },
    {
      "cell_type": "code",
      "execution_count": null,
      "metadata": {
        "id": "DyOJ1nzPRzme",
        "outputId": "a0142e75-29b4-444a-9e6a-3d8f0cf35e32"
      },
      "outputs": [
        {
          "data": {
            "text/plain": [
              "'Manager'"
            ]
          },
          "execution_count": 84,
          "metadata": {},
          "output_type": "execute_result"
        }
      ],
      "source": [
        "data[2][0]"
      ]
    },
    {
      "cell_type": "code",
      "execution_count": null,
      "metadata": {
        "id": "ODxFEFb6Rzme",
        "outputId": "9ae9834f-90ba-4458-d5df-2d7e43eec42d"
      },
      "outputs": [
        {
          "data": {
            "text/plain": [
              "5"
            ]
          },
          "execution_count": 85,
          "metadata": {},
          "output_type": "execute_result"
        }
      ],
      "source": [
        "len(data)"
      ]
    },
    {
      "cell_type": "code",
      "execution_count": null,
      "metadata": {
        "id": "k8zOnP5zRzme",
        "outputId": "047c78ed-2830-4000-97fb-54e73e55efa5"
      },
      "outputs": [
        {
          "data": {
            "text/plain": [
              "[21, 'Manager', ['Manager', 89000], 4.5, 'Dhaka']"
            ]
          },
          "execution_count": 87,
          "metadata": {},
          "output_type": "execute_result"
        }
      ],
      "source": [
        "data"
      ]
    },
    {
      "cell_type": "markdown",
      "metadata": {
        "id": "UgYmz8egRzme"
      },
      "source": [
        "Some list methods"
      ]
    },
    {
      "cell_type": "code",
      "execution_count": null,
      "metadata": {
        "id": "Jv-Oj-oNRzme",
        "outputId": "018893a4-b4b5-492d-e179-fcf08246abe8",
        "colab": {
          "base_uri": "https://localhost:8080/"
        }
      },
      "outputs": [
        {
          "output_type": "stream",
          "name": "stdout",
          "text": [
            "[21, 'Manager', ['Manager', 89000], 4.5, 'Dhaka', 100]\n"
          ]
        }
      ],
      "source": [
        "data = [21, 'Manager', ['Manager', 89000] ,4.50, 'Dhaka']\n",
        "data.append(100)\n",
        "print(data)"
      ]
    },
    {
      "cell_type": "code",
      "source": [
        "data = [21, 'Manager', ['Manager', 89000] ,4.50, 'Dhaka']\n",
        "data.insert(2,100)\n",
        "print(data)"
      ],
      "metadata": {
        "colab": {
          "base_uri": "https://localhost:8080/"
        },
        "id": "M5aM4EXeQMIZ",
        "outputId": "0a9e0a11-b4b8-45f3-a4e0-ea202dd0302c"
      },
      "execution_count": null,
      "outputs": [
        {
          "output_type": "stream",
          "name": "stdout",
          "text": [
            "[21, 'Manager', 100, ['Manager', 89000], 4.5, 'Dhaka']\n"
          ]
        }
      ]
    },
    {
      "cell_type": "code",
      "execution_count": null,
      "metadata": {
        "id": "CZ6yqnLARzmf",
        "outputId": "e16a351a-0714-4588-eac4-714798b9dda9",
        "colab": {
          "base_uri": "https://localhost:8080/"
        }
      },
      "outputs": [
        {
          "output_type": "stream",
          "name": "stdout",
          "text": [
            "[21, 'Manager', ['Manager', 89000], 'Dhaka']\n"
          ]
        }
      ],
      "source": [
        "data = [21, 'Manager', ['Manager', 89000] ,4.50, 'Dhaka']\n",
        "data.remove(4.5)\n",
        "print(data)"
      ]
    },
    {
      "cell_type": "code",
      "execution_count": null,
      "metadata": {
        "id": "tKqaqnIBRzmf",
        "outputId": "3f7e3df7-2193-451f-aa27-bfa3dcf07604",
        "colab": {
          "base_uri": "https://localhost:8080/"
        }
      },
      "outputs": [
        {
          "output_type": "stream",
          "name": "stdout",
          "text": [
            "[21, 'Manager', ['Manager', 89000], 'Dhaka']\n"
          ]
        }
      ],
      "source": [
        "data = [21, 'Manager', ['Manager', 89000] ,4.50, 'Dhaka']\n",
        "data.pop(3)\n",
        "print(data)"
      ]
    },
    {
      "cell_type": "code",
      "execution_count": null,
      "metadata": {
        "id": "VFtxe-7pRzmf",
        "colab": {
          "base_uri": "https://localhost:8080/"
        },
        "outputId": "c6ebde04-dd3b-41ca-81d1-0c2e38a2dc87",
        "collapsed": true
      },
      "outputs": [
        {
          "output_type": "execute_result",
          "data": {
            "text/plain": [
              "['__add__',\n",
              " '__class__',\n",
              " '__contains__',\n",
              " '__delattr__',\n",
              " '__delitem__',\n",
              " '__dir__',\n",
              " '__doc__',\n",
              " '__eq__',\n",
              " '__format__',\n",
              " '__ge__',\n",
              " '__getattribute__',\n",
              " '__getitem__',\n",
              " '__gt__',\n",
              " '__hash__',\n",
              " '__iadd__',\n",
              " '__imul__',\n",
              " '__init__',\n",
              " '__init_subclass__',\n",
              " '__iter__',\n",
              " '__le__',\n",
              " '__len__',\n",
              " '__lt__',\n",
              " '__mul__',\n",
              " '__ne__',\n",
              " '__new__',\n",
              " '__reduce__',\n",
              " '__reduce_ex__',\n",
              " '__repr__',\n",
              " '__reversed__',\n",
              " '__rmul__',\n",
              " '__setattr__',\n",
              " '__setitem__',\n",
              " '__sizeof__',\n",
              " '__str__',\n",
              " '__subclasshook__',\n",
              " 'append',\n",
              " 'clear',\n",
              " 'copy',\n",
              " 'count',\n",
              " 'extend',\n",
              " 'index',\n",
              " 'insert',\n",
              " 'pop',\n",
              " 'remove',\n",
              " 'reverse',\n",
              " 'sort']"
            ]
          },
          "metadata": {},
          "execution_count": 67
        }
      ],
      "source": [
        "dir(data)"
      ]
    },
    {
      "cell_type": "code",
      "execution_count": null,
      "metadata": {
        "id": "8EW2S40DRzmf"
      },
      "outputs": [],
      "source": [
        "#help(data.insert)"
      ]
    },
    {
      "cell_type": "markdown",
      "metadata": {
        "id": "7SDG91olRzmf"
      },
      "source": [
        "Lists also support operations like concatenation"
      ]
    },
    {
      "cell_type": "code",
      "execution_count": null,
      "metadata": {
        "id": "yyLLhPTYRzmf",
        "outputId": "915529ef-47d4-467f-deaa-b2b645569b54"
      },
      "outputs": [
        {
          "data": {
            "text/plain": [
              "[1, 4, 9, 16, 25, 21, ['Manager', 89000], 4.5, 'Dhaka']"
            ]
          },
          "execution_count": 93,
          "metadata": {},
          "output_type": "execute_result"
        }
      ],
      "source": [
        "squares + data"
      ]
    },
    {
      "cell_type": "markdown",
      "metadata": {
        "id": "s235DeNcRzmf"
      },
      "source": [
        "<b> Exercise 4:</b> Implement stack using list\n",
        "<p><b>Hints:</b> The list methods make it very easy to use a list as a stack, where the last element added is the first element retrieved (“last-in, first-out”). To add an item to the top of the stack, use append(). To retrieve an item from the top of the stack, use pop() without an explicit index</p>"
      ]
    },
    {
      "cell_type": "code",
      "execution_count": null,
      "metadata": {
        "id": "Ch_6MsYeRzmf"
      },
      "outputs": [],
      "source": [
        "# code here"
      ]
    },
    {
      "cell_type": "markdown",
      "metadata": {
        "id": "8IBYDynXRzmg"
      },
      "source": [
        "<b> Exercise 5:</b> Implement queue using list\n",
        "<p><b>Hints:</b> It is also possible to use a list as a queue, where the first element added is the first element retrieved (“first-in, first-out”)</p>"
      ]
    },
    {
      "cell_type": "code",
      "execution_count": null,
      "metadata": {
        "id": "g5EYaRjnRzmg"
      },
      "outputs": [],
      "source": [
        "# code here"
      ]
    },
    {
      "cell_type": "markdown",
      "metadata": {
        "id": "TQ0Azt_2Rzmg"
      },
      "source": [
        "# Dictionary\n",
        "<p style=\"text-align: justify\">Dictionaries are sometimes found in other languages as “associative memories” or “associative arrays”. Unlike sequences, which are indexed by a range of numbers, dictionaries are indexed by keys, which can be any immutable type; strings and numbers can always be keys.</p>\n",
        "\n",
        "<p style=\"text-align: justify\">It is best to think of a dictionary as a set of key: value pairs, with the requirement that the keys are unique (within one dictionary). A pair of braces creates an empty dictionary: {}. Placing a comma-separated list of key:value pairs within the braces adds initial key:value pairs to the dictionary; this is also the way dictionaries are written on output.</p>"
      ]
    },
    {
      "cell_type": "code",
      "execution_count": null,
      "metadata": {
        "id": "re9nWSYYRzmg"
      },
      "outputs": [],
      "source": [
        "tel = {'jack': 4098, 'sape': 4139}"
      ]
    },
    {
      "cell_type": "code",
      "source": [
        "list(tel.keys())[1]\n"
      ],
      "metadata": {
        "colab": {
          "base_uri": "https://localhost:8080/",
          "height": 35
        },
        "id": "If-U0e50Ihle",
        "outputId": "fb9b5a7f-26b7-4d92-9464-acde93a165e4"
      },
      "execution_count": null,
      "outputs": [
        {
          "output_type": "execute_result",
          "data": {
            "text/plain": [
              "'sape'"
            ],
            "application/vnd.google.colaboratory.intrinsic+json": {
              "type": "string"
            }
          },
          "metadata": {},
          "execution_count": 11
        }
      ]
    },
    {
      "cell_type": "code",
      "execution_count": null,
      "metadata": {
        "id": "2GNIumzqRzmg",
        "outputId": "9248630a-c678-49b5-9c3f-315d986dfdf9"
      },
      "outputs": [
        {
          "data": {
            "text/plain": [
              "{'jack': 4098, 'sape': 4139, 'guido': 4127}"
            ]
          },
          "execution_count": 97,
          "metadata": {},
          "output_type": "execute_result"
        }
      ],
      "source": [
        "tel['guido'] = 4127\n",
        "tel"
      ]
    },
    {
      "cell_type": "code",
      "execution_count": null,
      "metadata": {
        "id": "KzHZZf9ERzmg"
      },
      "outputs": [],
      "source": [
        "person = {'Age':21,'Name':['niaz','rahman'], 'Salary':56000, 'Rating':4.50}"
      ]
    },
    {
      "cell_type": "code",
      "execution_count": null,
      "metadata": {
        "id": "onihNMhoRzmg",
        "outputId": "19b4f315-e381-4ace-bb6a-3d26b7c285f2"
      },
      "outputs": [
        {
          "data": {
            "text/plain": [
              "4.5"
            ]
          },
          "execution_count": 99,
          "metadata": {},
          "output_type": "execute_result"
        }
      ],
      "source": [
        "person['Rating']"
      ]
    },
    {
      "cell_type": "code",
      "execution_count": null,
      "metadata": {
        "id": "SII5SLdbRzmg",
        "outputId": "2c1dfbf6-9baa-4933-ff4b-3a22033ddaee"
      },
      "outputs": [
        {
          "data": {
            "text/plain": [
              "4"
            ]
          },
          "execution_count": 100,
          "metadata": {},
          "output_type": "execute_result"
        }
      ],
      "source": [
        "len(person)"
      ]
    },
    {
      "cell_type": "code",
      "execution_count": null,
      "metadata": {
        "id": "x2Zc_drHRzmh",
        "outputId": "d67628b3-beb9-4495-ce9e-01654b68e116"
      },
      "outputs": [
        {
          "data": {
            "text/plain": [
              "dict_keys(['Age', 'Name', 'Salary', 'Rating'])"
            ]
          },
          "execution_count": 101,
          "metadata": {},
          "output_type": "execute_result"
        }
      ],
      "source": [
        "person.keys()"
      ]
    },
    {
      "cell_type": "code",
      "execution_count": null,
      "metadata": {
        "id": "l_yR04F0Rzmh",
        "outputId": "cee39d47-7114-4d59-feaf-e898ca82c1a8"
      },
      "outputs": [
        {
          "data": {
            "text/plain": [
              "True"
            ]
          },
          "execution_count": 102,
          "metadata": {},
          "output_type": "execute_result"
        }
      ],
      "source": [
        "#person.has_key('Name')\n",
        "'Name' in person.keys()"
      ]
    },
    {
      "cell_type": "code",
      "execution_count": null,
      "metadata": {
        "id": "Enge3DbtRzmh",
        "outputId": "da9598cd-d82e-4504-b5ad-9336ffd2e572"
      },
      "outputs": [
        {
          "data": {
            "text/plain": [
              "True"
            ]
          },
          "execution_count": 103,
          "metadata": {},
          "output_type": "execute_result"
        }
      ],
      "source": [
        "'niaz' in person['Name']"
      ]
    },
    {
      "cell_type": "code",
      "execution_count": null,
      "metadata": {
        "id": "Lp68r5LJRzmh"
      },
      "outputs": [],
      "source": [
        "#dir(person)"
      ]
    },
    {
      "cell_type": "markdown",
      "metadata": {
        "id": "6-O7lD6gRzmh"
      },
      "source": [
        "<b> Exercise 6:</b> Define a dictionary to store the details of persons. Also, print some data from the dictionary.\n",
        " <p><b>Hint:</b> You may require nesting dictionary, lists, string inside the dictionary.</p>"
      ]
    },
    {
      "cell_type": "code",
      "execution_count": null,
      "metadata": {
        "id": "UNx0mYDNRzmh"
      },
      "outputs": [],
      "source": [
        "# Code here"
      ]
    },
    {
      "cell_type": "markdown",
      "metadata": {
        "id": "4S_g-H7rRzmh"
      },
      "source": [
        "# Tuples and Sets\n",
        "<b>Exercise 7: (Optional)</b> Use the content from [here](https://docs.python.org/3/tutorial/datastructures.html#tuples-and-sequences) to follow some examples on tuple and set."
      ]
    },
    {
      "cell_type": "code",
      "execution_count": null,
      "metadata": {
        "id": "LpzjdV5RRzmh"
      },
      "outputs": [],
      "source": [
        "# code from here"
      ]
    }
  ],
  "metadata": {
    "kernelspec": {
      "display_name": "Python 3",
      "language": "python",
      "name": "python3"
    },
    "language_info": {
      "codemirror_mode": {
        "name": "ipython",
        "version": 3
      },
      "file_extension": ".py",
      "mimetype": "text/x-python",
      "name": "python",
      "nbconvert_exporter": "python",
      "pygments_lexer": "ipython3",
      "version": "3.8.5"
    },
    "colab": {
      "provenance": [],
      "include_colab_link": true
    }
  },
  "nbformat": 4,
  "nbformat_minor": 0
}